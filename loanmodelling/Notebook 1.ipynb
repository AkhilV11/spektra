{
  "nbformat": 4,
  "nbformat_minor": 2,
  "metadata": {
    "kernelspec": {
      "name": "synapse_pyspark",
      "display_name": "Synapse PySpark"
    },
    "language_info": {
      "name": "python"
    },
    "description": null,
    "save_output": true,
    "synapse_widget": {
      "version": "0.1",
      "state": {}
    }
  },
  "cells": [
    {
      "cell_type": "code",
      "execution_count": 1,
      "outputs": [
        {
          "output_type": "display_data",
          "data": {
            "application/vnd.livy.statement-meta+json": {
              "spark_pool": "SparkPool01",
              "session_id": "0",
              "statement_id": 1,
              "state": "finished",
              "livy_statement_state": "available",
              "queued_time": "2023-04-04T07:41:50.5234629Z",
              "session_start_time": "2023-04-04T07:41:50.5686721Z",
              "execution_start_time": "2023-04-04T07:44:30.7593449Z",
              "execution_finish_time": "2023-04-04T07:45:20.8886757Z",
              "spark_jobs": null,
              "parent_msg_id": "ac6db5ed-d7eb-457e-a92e-13e8825187cc"
            },
            "text/plain": "StatementMeta(SparkPool01, 0, 1, Finished, Available)"
          },
          "metadata": {}
        }
      ],
      "metadata": {
        "microsoft": {
          "language": "python"
        }
      },
      "source": [
        "%%pyspark\n",
        "blob_account_name = \"sbadataDID\"\n",
        "blob_container_name = \"output\"\n",
        "from pyspark.sql import SparkSession\n",
        "\n",
        "sc = SparkSession.builder.getOrCreate()\n",
        "token_library = sc._jvm.com.microsoft.azure.synapse.tokenlibrary.TokenLibrary\n",
        "blob_sas_token = token_library.getConnectionString(\"link_to_sbadata_storage\")\n",
        "\n",
        "spark.conf.set(\n",
        "    'fs.azure.sas.%s.%s.blob.core.windows.net' % (blob_container_name, blob_account_name),\n",
        "    blob_sas_token)\n",
        "df = spark.read.load('wasbs://output@sbadataDID.blob.core.windows.net/part-merged.csv', format='csv'\n",
        "## If header exists uncomment line below\n",
        ", header=True\n",
        ")\n",
        "df.write.mode(\"overwrite\").saveAsTable(\"default.SBAhistory\")"
      ]
    }
  ]
}
